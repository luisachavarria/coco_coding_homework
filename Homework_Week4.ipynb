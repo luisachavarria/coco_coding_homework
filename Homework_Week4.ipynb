{
 "cells": [
  {
   "cell_type": "code",
   "execution_count": 16,
   "id": "bcf7e7d4-15c9-49db-8cb6-09fa86b7d9bc",
   "metadata": {},
   "outputs": [],
   "source": [
    "####Task 1 "
   ]
  },
  {
   "cell_type": "code",
   "execution_count": 7,
   "id": "383d4606-3650-4259-8eb7-bf16d4497620",
   "metadata": {},
   "outputs": [],
   "source": [
    "Planets= [\"Mercury\", \"Venus\", \"Earth\", \"Mars\", \"Jupiter\", \"Saturn\", \"Uranus\", \"Neptune\"]"
   ]
  },
  {
   "cell_type": "code",
   "execution_count": 19,
   "id": "2726588d-c610-4198-a92a-2c1a66b6e146",
   "metadata": {},
   "outputs": [
    {
     "data": {
      "text/plain": [
       "8"
      ]
     },
     "execution_count": 19,
     "metadata": {},
     "output_type": "execute_result"
    }
   ],
   "source": [
    "len(Planets)"
   ]
  },
  {
   "cell_type": "code",
   "execution_count": 20,
   "id": "cc1b7724-05af-4d92-807e-6d197cbcfc53",
   "metadata": {},
   "outputs": [
    {
     "data": {
      "text/plain": [
       "['Mercury', 'Venus', 'Earth', 'Mars']"
      ]
     },
     "execution_count": 20,
     "metadata": {},
     "output_type": "execute_result"
    }
   ],
   "source": [
    "Planets[0:4]"
   ]
  },
  {
   "cell_type": "code",
   "execution_count": 21,
   "id": "e0b7059c-c9f0-4835-86c1-eb716a029943",
   "metadata": {},
   "outputs": [
    {
     "name": "stdout",
     "output_type": "stream",
     "text": [
      "Venus Mars Uranus\n"
     ]
    }
   ],
   "source": [
    "print(Planets[1], Planets[3],Planets[6])"
   ]
  },
  {
   "cell_type": "code",
   "execution_count": null,
   "id": "fc00fc07-37a8-4f01-b6c5-0b793c6ee4f6",
   "metadata": {},
   "outputs": [],
   "source": []
  }
 ],
 "metadata": {
  "kernelspec": {
   "display_name": "CoCo",
   "language": "python",
   "name": "coco"
  },
  "language_info": {
   "codemirror_mode": {
    "name": "ipython",
    "version": 3
   },
   "file_extension": ".py",
   "mimetype": "text/x-python",
   "name": "python",
   "nbconvert_exporter": "python",
   "pygments_lexer": "ipython3",
   "version": "3.10.4"
  }
 },
 "nbformat": 4,
 "nbformat_minor": 5
}
